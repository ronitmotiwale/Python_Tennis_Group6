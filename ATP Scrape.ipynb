{
 "cells": [
  {
   "cell_type": "code",
   "execution_count": 1,
   "metadata": {},
   "outputs": [
    {
     "name": "stdout",
     "output_type": "stream",
     "text": [
      "Note: you may need to restart the kernel to use updated packages.\n"
     ]
    },
    {
     "name": "stderr",
     "output_type": "stream",
     "text": [
      "'C:\\Users\\RONIT\\Documents\\New' is not recognized as an internal or external command,\n",
      "operable program or batch file.\n"
     ]
    }
   ],
   "source": [
    "pip install selenium"
   ]
  },
  {
   "cell_type": "code",
   "execution_count": 2,
   "metadata": {
    "scrolled": true
   },
   "outputs": [
    {
     "ename": "ModuleNotFoundError",
     "evalue": "No module named 'selenium'",
     "output_type": "error",
     "traceback": [
      "\u001b[1;31m---------------------------------------------------------------------------\u001b[0m",
      "\u001b[1;31mModuleNotFoundError\u001b[0m                       Traceback (most recent call last)",
      "\u001b[1;32m<ipython-input-2-8fa6e8f6aa33>\u001b[0m in \u001b[0;36m<module>\u001b[1;34m\u001b[0m\n\u001b[1;32m----> 1\u001b[1;33m \u001b[1;32mfrom\u001b[0m \u001b[0mselenium\u001b[0m \u001b[1;32mimport\u001b[0m \u001b[0mwebdriver\u001b[0m\u001b[1;33m\u001b[0m\u001b[1;33m\u001b[0m\u001b[0m\n\u001b[0m\u001b[0;32m      2\u001b[0m \u001b[1;32mfrom\u001b[0m \u001b[0mselenium\u001b[0m\u001b[1;33m.\u001b[0m\u001b[0mwebdriver\u001b[0m\u001b[1;33m.\u001b[0m\u001b[0mfirefox\u001b[0m\u001b[1;33m.\u001b[0m\u001b[0moptions\u001b[0m \u001b[1;32mimport\u001b[0m \u001b[0mOptions\u001b[0m\u001b[1;33m\u001b[0m\u001b[1;33m\u001b[0m\u001b[0m\n\u001b[0;32m      3\u001b[0m \u001b[1;32mfrom\u001b[0m \u001b[0mselenium\u001b[0m\u001b[1;33m.\u001b[0m\u001b[0mwebdriver\u001b[0m\u001b[1;33m.\u001b[0m\u001b[0msupport\u001b[0m\u001b[1;33m.\u001b[0m\u001b[0mui\u001b[0m \u001b[1;32mimport\u001b[0m \u001b[0mWebDriverWait\u001b[0m\u001b[1;33m\u001b[0m\u001b[1;33m\u001b[0m\u001b[0m\n\u001b[0;32m      4\u001b[0m \u001b[1;32mfrom\u001b[0m \u001b[0mselenium\u001b[0m\u001b[1;33m.\u001b[0m\u001b[0mwebdriver\u001b[0m\u001b[1;33m.\u001b[0m\u001b[0msupport\u001b[0m \u001b[1;32mimport\u001b[0m \u001b[0mexpected_conditions\u001b[0m \u001b[1;32mas\u001b[0m \u001b[0mEC\u001b[0m\u001b[1;33m\u001b[0m\u001b[1;33m\u001b[0m\u001b[0m\n\u001b[0;32m      5\u001b[0m \u001b[1;32mfrom\u001b[0m \u001b[0mselenium\u001b[0m\u001b[1;33m.\u001b[0m\u001b[0mwebdriver\u001b[0m\u001b[1;33m.\u001b[0m\u001b[0mcommon\u001b[0m\u001b[1;33m.\u001b[0m\u001b[0mby\u001b[0m \u001b[1;32mimport\u001b[0m \u001b[0mBy\u001b[0m\u001b[1;33m\u001b[0m\u001b[1;33m\u001b[0m\u001b[0m\n",
      "\u001b[1;31mModuleNotFoundError\u001b[0m: No module named 'selenium'"
     ]
    }
   ],
   "source": [
    "from selenium import webdriver\n",
    "from selenium.webdriver.firefox.options import Options\n",
    "from selenium.webdriver.support.ui import WebDriverWait\n",
    "from selenium.webdriver.support import expected_conditions as EC\n",
    "from selenium.webdriver.common.by import By\n",
    "from bs4 import BeautifulSoup"
   ]
  },
  {
   "cell_type": "code",
   "execution_count": null,
   "metadata": {
    "scrolled": true
   },
   "outputs": [],
   "source": [
    "# Uncomment code to use chrome\n",
    "from selenium.webdriver.chrome.options import Options\n",
    "\n",
    "options = Options()\n",
    "# Keep headless commented out if want to show in browser\n",
    "# options.add_argument('--headless')\n",
    "\n",
    "browser = webdriver.Chrome(chrome_options=options)"
   ]
  },
  {
   "cell_type": "code",
   "execution_count": null,
   "metadata": {},
   "outputs": [],
   "source": [
    "ex_url = \"https://www.atptour.com/en/stats/leaderboard?boardType=serve&timeFrame=Career&surface=all&versusRank=all&formerNo1=false\""
   ]
  },
  {
   "cell_type": "code",
   "execution_count": null,
   "metadata": {},
   "outputs": [],
   "source": [
    "browser.get(ex_url)"
   ]
  },
  {
   "cell_type": "code",
   "execution_count": null,
   "metadata": {},
   "outputs": [],
   "source": [
    "# View page source\n",
    "soup=BeautifulSoup(browser.page_source, 'html.parser')\n",
    "print(soup)"
   ]
  },
  {
   "cell_type": "markdown",
   "metadata": {},
   "source": [
    "Example of looking for a particular data type attribute\n",
    "https://stackoverflow.com/questions/31416858/how-to-find-all-elements-with-a-custom-html-attribute-regardless-of-html-tag-usi"
   ]
  },
  {
   "cell_type": "code",
   "execution_count": null,
   "metadata": {},
   "outputs": [],
   "source": [
    "\n",
    "#Names\n",
    "\n",
    "                   \n",
    "                   \n",
    "                   \n",
    "                   \n",
    "                   \n",
    "                   \n",
    "                   \n",
    "                   \n",
    "                   \n",
    "                   \n",
    "                   \n",
    "                   \n",
    "                   \n",
    "                   \n",
    "                   \n",
    "                   \n"
   ]
  },
  {
   "cell_type": "code",
   "execution_count": null,
   "metadata": {
    "scrolled": true
   },
   "outputs": [],
   "source": [
    "#soup.find_all(attrs={\"data-type\":True})\n",
    "\n",
    "# dict_={}\n",
    "# for i in range(len(l)):\n",
    "#     dict_[l[i]]=serveRating[i]\n",
    "# dict_"
   ]
  },
  {
   "cell_type": "code",
   "execution_count": null,
   "metadata": {
    "scrolled": true
   },
   "outputs": [],
   "source": [
    "#soup.find_all(name='a', class_=\"stats-player-name\")\n",
    "Names=[]\n",
    "a=soup.find_all(name='a', class_=\"stats-player-name\")\n",
    "for i in a:\n",
    "    Names.append(i.text)  \n",
    "serveRating=[]\n",
    "ba=soup.find_all(attrs={\"data-type\":\"serveRating\"})\n",
    "for i in ba:\n",
    "    serveRating.append(i.text) \n",
    "_1stServePct=[]\n",
    "ba=soup.find_all(attrs={\"data-type\":\"1stServePct\"})\n",
    "for i in ba:\n",
    "    _1stServePct.append(i.text) \n",
    "_1stServePointsWonPct=[]\n",
    "ba=soup.find_all(attrs={\"data-type\":\"1stServePointsWonPct\"})\n",
    "for i in ba:\n",
    "    _1stServePointsWonPct.append(i.text)\n",
    "_2ndServePointsWonPct=[]\n",
    "ba=soup.find_all(attrs={\"data-type\":\"2ndServePointsWonPct\"})\n",
    "for i in ba:\n",
    "    _2ndServePointsWonPct.append(i.text)\n",
    "serviceGamesWonPct=[]\n",
    "ba=soup.find_all(attrs={\"data-type\":\"serviceGamesWonPct\"})\n",
    "for i in ba:\n",
    "    serviceGamesWonPct.append(i.text) \n",
    "avgAcesPerMatch=[]\n",
    "ba=soup.find_all(attrs={\"data-type\":\"avgAcesPerMatch\"})\n",
    "for i in ba:\n",
    "    avgAcesPerMatch.append(i.text)\n",
    "avgDblFaultsPerMatch=[]\n",
    "ba=soup.find_all(attrs={\"data-type\":\"avgDblFaultsPerMatch\"})\n",
    "for i in ba:\n",
    "    avgDblFaultsPerMatch.append(i.text) \n",
    "\n",
    "\n",
    "\n",
    "#_1stServePct\n",
    "#soup.find_all(name='td',attrs={\"data-type\":\"1stServePct\"})"
   ]
  },
  {
   "cell_type": "code",
   "execution_count": null,
   "metadata": {
    "scrolled": true
   },
   "outputs": [],
   "source": [
    "#soup.find_all(name='td',attrs={\"data-type\":\"1stServePointsWonPct\"})\n",
    " \n",
    "#_1stServePointsWonPct"
   ]
  },
  {
   "cell_type": "code",
   "execution_count": null,
   "metadata": {
    "scrolled": true
   },
   "outputs": [],
   "source": [
    "#soup.find_all(name='td',attrs={\"data-type\":\"2ndServePointsWonPct\"})\n",
    " \n",
    "#_2ndServePointsWonPct"
   ]
  },
  {
   "cell_type": "code",
   "execution_count": null,
   "metadata": {
    "scrolled": true
   },
   "outputs": [],
   "source": [
    "#soup.find_all(name='td',attrs={\"data-type\":\"serviceGamesWonPct\"})\n",
    "\n",
    "#serviceGamesWonPct"
   ]
  },
  {
   "cell_type": "code",
   "execution_count": null,
   "metadata": {
    "scrolled": true
   },
   "outputs": [],
   "source": [
    "#soup.find_all(name='td',attrs={\"data-type\":\"avgAcesPerMatch\"})\n",
    " \n",
    "#avgAcesPerMatch"
   ]
  },
  {
   "cell_type": "code",
   "execution_count": null,
   "metadata": {
    "scrolled": true
   },
   "outputs": [],
   "source": [
    "#soup.find_all(name='td',attrs={\"data-type\":\"avgDblFaultsPerMatch\"})\n",
    "\n",
    "#avgDblFaultsPerMatch"
   ]
  },
  {
   "cell_type": "code",
   "execution_count": null,
   "metadata": {},
   "outputs": [],
   "source": [
    "import numpy as np\n",
    "import pandas as pd\n",
    "atp_serve = pd.DataFrame(np.column_stack([Names, serveRating, _1stServePct, _1stServePointsWonPct, _2ndServePointsWonPct, serviceGamesWonPct,avgAcesPerMatch, avgDblFaultsPerMatch ]), \n",
    "                               columns=['Player','serveRating', '1stServePct', '1stServePointsWonPct','2ndServePointsWonPct','serviceGamesWonPct','avgAcesPerMatch','avgDblFaultsPerMatch'])"
   ]
  },
  {
   "cell_type": "code",
   "execution_count": null,
   "metadata": {},
   "outputs": [],
   "source": [
    "atp_serve"
   ]
  },
  {
   "cell_type": "code",
   "execution_count": null,
   "metadata": {},
   "outputs": [],
   "source": [
    "return_url = \"https://www.atptour.com/en/stats/leaderboard?boardType=return&timeFrame=Career&surface=all&versusRank=all&formerNo1=false\"\n",
    "browser.get(return_url)"
   ]
  },
  {
   "cell_type": "code",
   "execution_count": null,
   "metadata": {},
   "outputs": [],
   "source": [
    "soup_return=BeautifulSoup(browser.page_source, 'html.parser')\n",
    "print(soup_return)"
   ]
  },
  {
   "cell_type": "code",
   "execution_count": null,
   "metadata": {},
   "outputs": [],
   "source": [
    "#soup.find_all(name='a', class_=\"stats-player-name\")\n",
    "# Names1=[]\n",
    "# a=soup.find_all(name='a', class_=\"stats-player-name\")\n",
    "# for i in a:\n",
    "#     Names1.append(i.text)  \n",
    "# Name1\n",
    "# returnRating=[]\n",
    "# ba=soup.find_all(attrs={\"data-type\":\"returnRating\"})\n",
    "# for i in ba:\n",
    "#     returnRating.append(i.text) \n",
    "# _1stServeReturnPointsWonPct=[]\n",
    "# ba=soup.find_all(attrs={\"data-type\":\"1stServeReturnPointsWonPct\"})\n",
    "# for i in ba:\n",
    "#     _1stServeReturnPointsWonPct.append(i.text) \n",
    "# _2ndServeReturnPointsWonPct=[]\n",
    "# ba=soup.find_all(attrs={\"data-type\":\"2ndServeReturnPointsWonPct\"})\n",
    "# for i in ba:\n",
    "#     _2ndServeReturnPointsWonPct.append(i.text)\n",
    "# returnGamesWonPct=[]\n",
    "# ba=soup.find_all(attrs={\"data-type\":\"returnGamesWonPct\"})\n",
    "# for i in ba:\n",
    "#     returnGamesWonPct.append(i.text)\n",
    "# brkPointsConvertedPct=[]\n",
    "# ba=soup.find_all(attrs={\"data-type\":\"brkPointsConvertedPct\"})\n",
    "# for i in ba:\n",
    "#     brkPointsConvertedPct.append(i.text) \n",
    "# brkPointsConvertedPct\n",
    "# _1stServeReturnPointsWonPct\n",
    "\n"
   ]
  },
  {
   "cell_type": "code",
   "execution_count": null,
   "metadata": {},
   "outputs": [],
   "source": [
    "#atp_return = pd.DataFrame(np.column_stack([Names1, returnRating, _1stServeReturnPointsWonPct, _2ndServeReturnPointsWonPct, returnGamesWonPct,brkPointsConvertedPct ]),columns=['Player','returnRating', '1stServeReturnPointsWonPct','2ndServeReturnPointsWonPct','returnGamesWonPct','brkPointsConvertedPct'])"
   ]
  },
  {
   "cell_type": "code",
   "execution_count": null,
   "metadata": {},
   "outputs": [],
   "source": []
  },
  {
   "cell_type": "code",
   "execution_count": null,
   "metadata": {},
   "outputs": [],
   "source": []
  }
 ],
 "metadata": {
  "kernelspec": {
   "display_name": "Python 3",
   "language": "python",
   "name": "python3"
  },
  "language_info": {
   "codemirror_mode": {
    "name": "ipython",
    "version": 3
   },
   "file_extension": ".py",
   "mimetype": "text/x-python",
   "name": "python",
   "nbconvert_exporter": "python",
   "pygments_lexer": "ipython3",
   "version": "3.7.3"
  }
 },
 "nbformat": 4,
 "nbformat_minor": 2
}
